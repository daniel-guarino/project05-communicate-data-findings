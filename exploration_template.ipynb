{
 "cells": [
  {
   "cell_type": "markdown",
   "metadata": {},
   "source": [
    "# Loan Data from Prosper\n",
    "## by Daniel Guarino\n",
    "\n",
    "## Preliminary Wrangling\n",
    "\n",
    "> This data set contains 113,937 loans with 81 variables on each loan, including loan amount, borrower rate (or  interest rate), current loan status, borrower income. These loans were made by people in all American States for different purposes (19 reasons as is going to be showed further). This document is the first part (initial report) of this work. Here we need to check data issues. Then we can start the Exploration Data Visualization. \n",
    "According to Wikipedia, Prosper is a peer-to-peer company \"where individuals can either invest in personal loans or request to borrow money.\" https://en.wikipedia.org/wiki/Prosper_Marketplace "
   ]
  },
  {
   "cell_type": "code",
   "execution_count": 121,
   "metadata": {},
   "outputs": [],
   "source": [
    "# import all packages and set plots to be embedded inline\n",
    "import numpy as np\n",
    "import pandas as pd\n",
    "import matplotlib.pyplot as plt\n",
    "import seaborn as sns\n",
    "\n",
    "%matplotlib inline"
   ]
  },
  {
   "cell_type": "code",
   "execution_count": 122,
   "metadata": {},
   "outputs": [
    {
     "data": {
      "text/html": [
       "<div>\n",
       "<style scoped>\n",
       "    .dataframe tbody tr th:only-of-type {\n",
       "        vertical-align: middle;\n",
       "    }\n",
       "\n",
       "    .dataframe tbody tr th {\n",
       "        vertical-align: top;\n",
       "    }\n",
       "\n",
       "    .dataframe thead th {\n",
       "        text-align: right;\n",
       "    }\n",
       "</style>\n",
       "<table border=\"1\" class=\"dataframe\">\n",
       "  <thead>\n",
       "    <tr style=\"text-align: right;\">\n",
       "      <th></th>\n",
       "      <th>ListingKey</th>\n",
       "      <th>ListingNumber</th>\n",
       "      <th>ListingCreationDate</th>\n",
       "      <th>CreditGrade</th>\n",
       "      <th>Term</th>\n",
       "      <th>LoanStatus</th>\n",
       "      <th>ClosedDate</th>\n",
       "      <th>BorrowerAPR</th>\n",
       "      <th>BorrowerRate</th>\n",
       "      <th>LenderYield</th>\n",
       "      <th>...</th>\n",
       "      <th>LP_ServiceFees</th>\n",
       "      <th>LP_CollectionFees</th>\n",
       "      <th>LP_GrossPrincipalLoss</th>\n",
       "      <th>LP_NetPrincipalLoss</th>\n",
       "      <th>LP_NonPrincipalRecoverypayments</th>\n",
       "      <th>PercentFunded</th>\n",
       "      <th>Recommendations</th>\n",
       "      <th>InvestmentFromFriendsCount</th>\n",
       "      <th>InvestmentFromFriendsAmount</th>\n",
       "      <th>Investors</th>\n",
       "    </tr>\n",
       "  </thead>\n",
       "  <tbody>\n",
       "    <tr>\n",
       "      <td>0</td>\n",
       "      <td>1021339766868145413AB3B</td>\n",
       "      <td>193129</td>\n",
       "      <td>2007-08-26 19:09:29.263000000</td>\n",
       "      <td>C</td>\n",
       "      <td>36</td>\n",
       "      <td>Completed</td>\n",
       "      <td>2009-08-14 00:00:00</td>\n",
       "      <td>0.16516</td>\n",
       "      <td>0.1580</td>\n",
       "      <td>0.1380</td>\n",
       "      <td>...</td>\n",
       "      <td>-133.18</td>\n",
       "      <td>0.0</td>\n",
       "      <td>0.0</td>\n",
       "      <td>0.0</td>\n",
       "      <td>0.0</td>\n",
       "      <td>1.0</td>\n",
       "      <td>0</td>\n",
       "      <td>0</td>\n",
       "      <td>0.0</td>\n",
       "      <td>258</td>\n",
       "    </tr>\n",
       "    <tr>\n",
       "      <td>1</td>\n",
       "      <td>10273602499503308B223C1</td>\n",
       "      <td>1209647</td>\n",
       "      <td>2014-02-27 08:28:07.900000000</td>\n",
       "      <td>NaN</td>\n",
       "      <td>36</td>\n",
       "      <td>Current</td>\n",
       "      <td>NaN</td>\n",
       "      <td>0.12016</td>\n",
       "      <td>0.0920</td>\n",
       "      <td>0.0820</td>\n",
       "      <td>...</td>\n",
       "      <td>0.00</td>\n",
       "      <td>0.0</td>\n",
       "      <td>0.0</td>\n",
       "      <td>0.0</td>\n",
       "      <td>0.0</td>\n",
       "      <td>1.0</td>\n",
       "      <td>0</td>\n",
       "      <td>0</td>\n",
       "      <td>0.0</td>\n",
       "      <td>1</td>\n",
       "    </tr>\n",
       "    <tr>\n",
       "      <td>2</td>\n",
       "      <td>0EE9337825851032864889A</td>\n",
       "      <td>81716</td>\n",
       "      <td>2007-01-05 15:00:47.090000000</td>\n",
       "      <td>HR</td>\n",
       "      <td>36</td>\n",
       "      <td>Completed</td>\n",
       "      <td>2009-12-17 00:00:00</td>\n",
       "      <td>0.28269</td>\n",
       "      <td>0.2750</td>\n",
       "      <td>0.2400</td>\n",
       "      <td>...</td>\n",
       "      <td>-24.20</td>\n",
       "      <td>0.0</td>\n",
       "      <td>0.0</td>\n",
       "      <td>0.0</td>\n",
       "      <td>0.0</td>\n",
       "      <td>1.0</td>\n",
       "      <td>0</td>\n",
       "      <td>0</td>\n",
       "      <td>0.0</td>\n",
       "      <td>41</td>\n",
       "    </tr>\n",
       "    <tr>\n",
       "      <td>3</td>\n",
       "      <td>0EF5356002482715299901A</td>\n",
       "      <td>658116</td>\n",
       "      <td>2012-10-22 11:02:35.010000000</td>\n",
       "      <td>NaN</td>\n",
       "      <td>36</td>\n",
       "      <td>Current</td>\n",
       "      <td>NaN</td>\n",
       "      <td>0.12528</td>\n",
       "      <td>0.0974</td>\n",
       "      <td>0.0874</td>\n",
       "      <td>...</td>\n",
       "      <td>-108.01</td>\n",
       "      <td>0.0</td>\n",
       "      <td>0.0</td>\n",
       "      <td>0.0</td>\n",
       "      <td>0.0</td>\n",
       "      <td>1.0</td>\n",
       "      <td>0</td>\n",
       "      <td>0</td>\n",
       "      <td>0.0</td>\n",
       "      <td>158</td>\n",
       "    </tr>\n",
       "    <tr>\n",
       "      <td>4</td>\n",
       "      <td>0F023589499656230C5E3E2</td>\n",
       "      <td>909464</td>\n",
       "      <td>2013-09-14 18:38:39.097000000</td>\n",
       "      <td>NaN</td>\n",
       "      <td>36</td>\n",
       "      <td>Current</td>\n",
       "      <td>NaN</td>\n",
       "      <td>0.24614</td>\n",
       "      <td>0.2085</td>\n",
       "      <td>0.1985</td>\n",
       "      <td>...</td>\n",
       "      <td>-60.27</td>\n",
       "      <td>0.0</td>\n",
       "      <td>0.0</td>\n",
       "      <td>0.0</td>\n",
       "      <td>0.0</td>\n",
       "      <td>1.0</td>\n",
       "      <td>0</td>\n",
       "      <td>0</td>\n",
       "      <td>0.0</td>\n",
       "      <td>20</td>\n",
       "    </tr>\n",
       "  </tbody>\n",
       "</table>\n",
       "<p>5 rows × 81 columns</p>\n",
       "</div>"
      ],
      "text/plain": [
       "                ListingKey  ListingNumber            ListingCreationDate  \\\n",
       "0  1021339766868145413AB3B         193129  2007-08-26 19:09:29.263000000   \n",
       "1  10273602499503308B223C1        1209647  2014-02-27 08:28:07.900000000   \n",
       "2  0EE9337825851032864889A          81716  2007-01-05 15:00:47.090000000   \n",
       "3  0EF5356002482715299901A         658116  2012-10-22 11:02:35.010000000   \n",
       "4  0F023589499656230C5E3E2         909464  2013-09-14 18:38:39.097000000   \n",
       "\n",
       "  CreditGrade  Term LoanStatus           ClosedDate  BorrowerAPR  \\\n",
       "0           C    36  Completed  2009-08-14 00:00:00      0.16516   \n",
       "1         NaN    36    Current                  NaN      0.12016   \n",
       "2          HR    36  Completed  2009-12-17 00:00:00      0.28269   \n",
       "3         NaN    36    Current                  NaN      0.12528   \n",
       "4         NaN    36    Current                  NaN      0.24614   \n",
       "\n",
       "   BorrowerRate  LenderYield  ...  LP_ServiceFees  LP_CollectionFees  \\\n",
       "0        0.1580       0.1380  ...         -133.18                0.0   \n",
       "1        0.0920       0.0820  ...            0.00                0.0   \n",
       "2        0.2750       0.2400  ...          -24.20                0.0   \n",
       "3        0.0974       0.0874  ...         -108.01                0.0   \n",
       "4        0.2085       0.1985  ...          -60.27                0.0   \n",
       "\n",
       "   LP_GrossPrincipalLoss  LP_NetPrincipalLoss LP_NonPrincipalRecoverypayments  \\\n",
       "0                    0.0                  0.0                             0.0   \n",
       "1                    0.0                  0.0                             0.0   \n",
       "2                    0.0                  0.0                             0.0   \n",
       "3                    0.0                  0.0                             0.0   \n",
       "4                    0.0                  0.0                             0.0   \n",
       "\n",
       "   PercentFunded  Recommendations InvestmentFromFriendsCount  \\\n",
       "0            1.0                0                          0   \n",
       "1            1.0                0                          0   \n",
       "2            1.0                0                          0   \n",
       "3            1.0                0                          0   \n",
       "4            1.0                0                          0   \n",
       "\n",
       "  InvestmentFromFriendsAmount Investors  \n",
       "0                         0.0       258  \n",
       "1                         0.0         1  \n",
       "2                         0.0        41  \n",
       "3                         0.0       158  \n",
       "4                         0.0        20  \n",
       "\n",
       "[5 rows x 81 columns]"
      ]
     },
     "execution_count": 122,
     "metadata": {},
     "output_type": "execute_result"
    }
   ],
   "source": [
    "# read dataset csv file\n",
    "df = pd.read_csv('prosperLoanData.csv')\n",
    "df.head()"
   ]
  },
  {
   "cell_type": "code",
   "execution_count": 123,
   "metadata": {},
   "outputs": [
    {
     "name": "stdout",
     "output_type": "stream",
     "text": [
      "<class 'pandas.core.frame.DataFrame'>\n",
      "RangeIndex: 113937 entries, 0 to 113936\n",
      "Data columns (total 81 columns):\n",
      "ListingKey                             113937 non-null object\n",
      "ListingNumber                          113937 non-null int64\n",
      "ListingCreationDate                    113937 non-null object\n",
      "CreditGrade                            28953 non-null object\n",
      "Term                                   113937 non-null int64\n",
      "LoanStatus                             113937 non-null object\n",
      "ClosedDate                             55089 non-null object\n",
      "BorrowerAPR                            113912 non-null float64\n",
      "BorrowerRate                           113937 non-null float64\n",
      "LenderYield                            113937 non-null float64\n",
      "EstimatedEffectiveYield                84853 non-null float64\n",
      "EstimatedLoss                          84853 non-null float64\n",
      "EstimatedReturn                        84853 non-null float64\n",
      "ProsperRating (numeric)                84853 non-null float64\n",
      "ProsperRating (Alpha)                  84853 non-null object\n",
      "ProsperScore                           84853 non-null float64\n",
      "ListingCategory (numeric)              113937 non-null int64\n",
      "BorrowerState                          108422 non-null object\n",
      "Occupation                             110349 non-null object\n",
      "EmploymentStatus                       111682 non-null object\n",
      "EmploymentStatusDuration               106312 non-null float64\n",
      "IsBorrowerHomeowner                    113937 non-null bool\n",
      "CurrentlyInGroup                       113937 non-null bool\n",
      "GroupKey                               13341 non-null object\n",
      "DateCreditPulled                       113937 non-null object\n",
      "CreditScoreRangeLower                  113346 non-null float64\n",
      "CreditScoreRangeUpper                  113346 non-null float64\n",
      "FirstRecordedCreditLine                113240 non-null object\n",
      "CurrentCreditLines                     106333 non-null float64\n",
      "OpenCreditLines                        106333 non-null float64\n",
      "TotalCreditLinespast7years             113240 non-null float64\n",
      "OpenRevolvingAccounts                  113937 non-null int64\n",
      "OpenRevolvingMonthlyPayment            113937 non-null float64\n",
      "InquiriesLast6Months                   113240 non-null float64\n",
      "TotalInquiries                         112778 non-null float64\n",
      "CurrentDelinquencies                   113240 non-null float64\n",
      "AmountDelinquent                       106315 non-null float64\n",
      "DelinquenciesLast7Years                112947 non-null float64\n",
      "PublicRecordsLast10Years               113240 non-null float64\n",
      "PublicRecordsLast12Months              106333 non-null float64\n",
      "RevolvingCreditBalance                 106333 non-null float64\n",
      "BankcardUtilization                    106333 non-null float64\n",
      "AvailableBankcardCredit                106393 non-null float64\n",
      "TotalTrades                            106393 non-null float64\n",
      "TradesNeverDelinquent (percentage)     106393 non-null float64\n",
      "TradesOpenedLast6Months                106393 non-null float64\n",
      "DebtToIncomeRatio                      105383 non-null float64\n",
      "IncomeRange                            113937 non-null object\n",
      "IncomeVerifiable                       113937 non-null bool\n",
      "StatedMonthlyIncome                    113937 non-null float64\n",
      "LoanKey                                113937 non-null object\n",
      "TotalProsperLoans                      22085 non-null float64\n",
      "TotalProsperPaymentsBilled             22085 non-null float64\n",
      "OnTimeProsperPayments                  22085 non-null float64\n",
      "ProsperPaymentsLessThanOneMonthLate    22085 non-null float64\n",
      "ProsperPaymentsOneMonthPlusLate        22085 non-null float64\n",
      "ProsperPrincipalBorrowed               22085 non-null float64\n",
      "ProsperPrincipalOutstanding            22085 non-null float64\n",
      "ScorexChangeAtTimeOfListing            18928 non-null float64\n",
      "LoanCurrentDaysDelinquent              113937 non-null int64\n",
      "LoanFirstDefaultedCycleNumber          16952 non-null float64\n",
      "LoanMonthsSinceOrigination             113937 non-null int64\n",
      "LoanNumber                             113937 non-null int64\n",
      "LoanOriginalAmount                     113937 non-null int64\n",
      "LoanOriginationDate                    113937 non-null object\n",
      "LoanOriginationQuarter                 113937 non-null object\n",
      "MemberKey                              113937 non-null object\n",
      "MonthlyLoanPayment                     113937 non-null float64\n",
      "LP_CustomerPayments                    113937 non-null float64\n",
      "LP_CustomerPrincipalPayments           113937 non-null float64\n",
      "LP_InterestandFees                     113937 non-null float64\n",
      "LP_ServiceFees                         113937 non-null float64\n",
      "LP_CollectionFees                      113937 non-null float64\n",
      "LP_GrossPrincipalLoss                  113937 non-null float64\n",
      "LP_NetPrincipalLoss                    113937 non-null float64\n",
      "LP_NonPrincipalRecoverypayments        113937 non-null float64\n",
      "PercentFunded                          113937 non-null float64\n",
      "Recommendations                        113937 non-null int64\n",
      "InvestmentFromFriendsCount             113937 non-null int64\n",
      "InvestmentFromFriendsAmount            113937 non-null float64\n",
      "Investors                              113937 non-null int64\n",
      "dtypes: bool(3), float64(50), int64(11), object(17)\n",
      "memory usage: 68.1+ MB\n"
     ]
    }
   ],
   "source": [
    "# get information about all variable names, number of entries and missing data for each variable\n",
    "df.info()"
   ]
  },
  {
   "cell_type": "markdown",
   "metadata": {},
   "source": [
    "### What is the structure of your dataset?\n",
    "\n",
    "> This dataset has 113,937 entries with 81 variables. It should be explored from 10 to 15 variables in order to accomplish this project. Some variable have the wrong type and this is must to be fixed. \n",
    "\n",
    "### What is/are the main feature(s) of interest in your dataset?\n",
    "\n",
    "> After reading the 'Prosper Loan Data - Variable Definitions.xlsx' where there's a descripition of each one the 81 varibles I selected 12 variables as described following:\n",
    "\n",
    "- `ListingCreationDate`: The date the listing was created.\n",
    "- `Term`: The length of the loan expressed in months.\n",
    "- `LoanStatus`: The current status of the loan: Cancelled,  Chargedoff, Completed, Current, Defaulted, FinalPaymentInProgress, PastDue. The PastDue status will be accompanied by a delinquency bucket.\n",
    "- `ClosedDate`: Closed date is applicable for Cancelled, Completed, Chargedoff and Defaulted loan statuses.  \n",
    "- `BorrowerRate`: The Borrower's interest rate for this loan.\n",
    "- `ProsperRating (numeric)`: The  Prosper Rating assigned at the time the listing was created: 0: N/A, 1: HR, 2: E, 3: D, 4: C, 5: B, 6: A, 7: AA. Applicable for loans originated after July 2009. \n",
    "- `ListingCategory`: The category of the listing that the borrower selected when posting their listing: 0 - Not Available, 1 - Debt Consolidation, 2 - Home Improvement, 3 - Business, 4 - Personal Loan, 5 - Student Use, 6 - Auto, 7- Other, 8 - Baby&Adoption, 9 - Boat, 10 - Cosmetic Procedure, 11 - Engagement Ring, 12 - Green Loans, 13 - Household Expenses, 14 - Large Purchases, 15 - Medical/Dental, 16 - Motorcycle, 17 - RV, 18 - Taxes, 19 - Vacation, 20 - Wedding Loans\n",
    "- `BorrowerState`: The two letter abbreviation of the state of the address of the borrower at the time the Listing was created.\n",
    "- `EmploymentStatus`: The employment status of the borrower at the time they posted the listing.\n",
    "- `IsBorrowerHomeowner`: A Borrower will be classified as a homowner if they have a mortgage on their credit profile or provide documentation confirming they are a homeowner.\n",
    "- `IncomeRange`: The income range of the borrower at the time the listing was created.\n",
    "- `LoanOriginalAmount`: The origination amount of the loan.\n",
    "\n",
    "\n",
    "These 12 selected variables don't have have missing data (`BorrowerState` and `OpenCreditLines` have a few missing data, but their analysis are still feasible) \n",
    "\n",
    "### What features in the dataset do you think will help support your investigation into your feature(s) of interest?\n",
    "\n",
    "> Description of what could be made in the visualization o of each table.\n",
    "\n",
    "- `ListingCreationDate`: Used in bivariate exploration\n",
    "- `Term`: A histogram will be plotted to check the terms distribution.\n",
    "- `LoanStatus`: Bar Chart to check the frequency of each one of the categories\n",
    "- `ClosedDate`:   \n",
    "- `BorrowerRate`: Histogram to check \n",
    "- `ProsperRating (numeric)` : Useful in a multivariate exploration.\n",
    "- `ListingCategory`: Create a new column with each category from the numbers and create a bar frequency chart\n",
    "- `BorrowerState`: Bar chart to check what are the states with more loans\n",
    "- `EmploymentStatus`: useful to a bivariate exploration with borrower rate (correlation)\n",
    "- `IsBorrowerHomeowner`: useful to a bivariate exploration with borrower rate (correlation)\n",
    "- `IncomeRange`: useful to a bivariate exploration with borrower rate (correlation)\n",
    "- `LoanOriginalAmount`: useful to a bi and multivariate exploration"
   ]
  },
  {
   "cell_type": "markdown",
   "metadata": {},
   "source": [
    "Reduce the original dataframe creating a new dataframe with the 12 columns selected"
   ]
  },
  {
   "cell_type": "code",
   "execution_count": 124,
   "metadata": {},
   "outputs": [
    {
     "data": {
      "text/html": [
       "<div>\n",
       "<style scoped>\n",
       "    .dataframe tbody tr th:only-of-type {\n",
       "        vertical-align: middle;\n",
       "    }\n",
       "\n",
       "    .dataframe tbody tr th {\n",
       "        vertical-align: top;\n",
       "    }\n",
       "\n",
       "    .dataframe thead th {\n",
       "        text-align: right;\n",
       "    }\n",
       "</style>\n",
       "<table border=\"1\" class=\"dataframe\">\n",
       "  <thead>\n",
       "    <tr style=\"text-align: right;\">\n",
       "      <th></th>\n",
       "      <th>ListingCreationDate</th>\n",
       "      <th>Term</th>\n",
       "      <th>LoanStatus</th>\n",
       "      <th>ClosedDate</th>\n",
       "      <th>BorrowerRate</th>\n",
       "      <th>ProsperRating (numeric)</th>\n",
       "      <th>ListingCategory (numeric)</th>\n",
       "      <th>BorrowerState</th>\n",
       "      <th>EmploymentStatus</th>\n",
       "      <th>IsBorrowerHomeowner</th>\n",
       "      <th>IncomeRange</th>\n",
       "      <th>LoanOriginalAmount</th>\n",
       "    </tr>\n",
       "  </thead>\n",
       "  <tbody>\n",
       "    <tr>\n",
       "      <td>0</td>\n",
       "      <td>2007-08-26 19:09:29.263000000</td>\n",
       "      <td>36</td>\n",
       "      <td>Completed</td>\n",
       "      <td>2009-08-14 00:00:00</td>\n",
       "      <td>0.1580</td>\n",
       "      <td>NaN</td>\n",
       "      <td>0</td>\n",
       "      <td>CO</td>\n",
       "      <td>Self-employed</td>\n",
       "      <td>True</td>\n",
       "      <td>$25,000-49,999</td>\n",
       "      <td>9425</td>\n",
       "    </tr>\n",
       "    <tr>\n",
       "      <td>1</td>\n",
       "      <td>2014-02-27 08:28:07.900000000</td>\n",
       "      <td>36</td>\n",
       "      <td>Current</td>\n",
       "      <td>NaN</td>\n",
       "      <td>0.0920</td>\n",
       "      <td>6.0</td>\n",
       "      <td>2</td>\n",
       "      <td>CO</td>\n",
       "      <td>Employed</td>\n",
       "      <td>False</td>\n",
       "      <td>$50,000-74,999</td>\n",
       "      <td>10000</td>\n",
       "    </tr>\n",
       "    <tr>\n",
       "      <td>2</td>\n",
       "      <td>2007-01-05 15:00:47.090000000</td>\n",
       "      <td>36</td>\n",
       "      <td>Completed</td>\n",
       "      <td>2009-12-17 00:00:00</td>\n",
       "      <td>0.2750</td>\n",
       "      <td>NaN</td>\n",
       "      <td>0</td>\n",
       "      <td>GA</td>\n",
       "      <td>Not available</td>\n",
       "      <td>False</td>\n",
       "      <td>Not displayed</td>\n",
       "      <td>3001</td>\n",
       "    </tr>\n",
       "    <tr>\n",
       "      <td>3</td>\n",
       "      <td>2012-10-22 11:02:35.010000000</td>\n",
       "      <td>36</td>\n",
       "      <td>Current</td>\n",
       "      <td>NaN</td>\n",
       "      <td>0.0974</td>\n",
       "      <td>6.0</td>\n",
       "      <td>16</td>\n",
       "      <td>GA</td>\n",
       "      <td>Employed</td>\n",
       "      <td>True</td>\n",
       "      <td>$25,000-49,999</td>\n",
       "      <td>10000</td>\n",
       "    </tr>\n",
       "    <tr>\n",
       "      <td>4</td>\n",
       "      <td>2013-09-14 18:38:39.097000000</td>\n",
       "      <td>36</td>\n",
       "      <td>Current</td>\n",
       "      <td>NaN</td>\n",
       "      <td>0.2085</td>\n",
       "      <td>3.0</td>\n",
       "      <td>2</td>\n",
       "      <td>MN</td>\n",
       "      <td>Employed</td>\n",
       "      <td>True</td>\n",
       "      <td>$100,000+</td>\n",
       "      <td>15000</td>\n",
       "    </tr>\n",
       "  </tbody>\n",
       "</table>\n",
       "</div>"
      ],
      "text/plain": [
       "             ListingCreationDate  Term LoanStatus           ClosedDate  \\\n",
       "0  2007-08-26 19:09:29.263000000    36  Completed  2009-08-14 00:00:00   \n",
       "1  2014-02-27 08:28:07.900000000    36    Current                  NaN   \n",
       "2  2007-01-05 15:00:47.090000000    36  Completed  2009-12-17 00:00:00   \n",
       "3  2012-10-22 11:02:35.010000000    36    Current                  NaN   \n",
       "4  2013-09-14 18:38:39.097000000    36    Current                  NaN   \n",
       "\n",
       "   BorrowerRate  ProsperRating (numeric)  ListingCategory (numeric)  \\\n",
       "0        0.1580                      NaN                          0   \n",
       "1        0.0920                      6.0                          2   \n",
       "2        0.2750                      NaN                          0   \n",
       "3        0.0974                      6.0                         16   \n",
       "4        0.2085                      3.0                          2   \n",
       "\n",
       "  BorrowerState EmploymentStatus  IsBorrowerHomeowner     IncomeRange  \\\n",
       "0            CO    Self-employed                 True  $25,000-49,999   \n",
       "1            CO         Employed                False  $50,000-74,999   \n",
       "2            GA    Not available                False   Not displayed   \n",
       "3            GA         Employed                 True  $25,000-49,999   \n",
       "4            MN         Employed                 True       $100,000+   \n",
       "\n",
       "   LoanOriginalAmount  \n",
       "0                9425  \n",
       "1               10000  \n",
       "2                3001  \n",
       "3               10000  \n",
       "4               15000  "
      ]
     },
     "execution_count": 124,
     "metadata": {},
     "output_type": "execute_result"
    }
   ],
   "source": [
    "# create a new data frame selecting the 12 desired columns and check the first five rows\n",
    "df_loan = df.loc[:,['ListingCreationDate','Term','LoanStatus','ClosedDate','BorrowerRate', 'ProsperRating (numeric)',\n",
    "                    'ListingCategory (numeric)','BorrowerState','EmploymentStatus','IsBorrowerHomeowner',\n",
    "                    'IncomeRange','LoanOriginalAmount']]\n",
    "df_loan.head()"
   ]
  },
  {
   "cell_type": "code",
   "execution_count": 125,
   "metadata": {},
   "outputs": [
    {
     "name": "stdout",
     "output_type": "stream",
     "text": [
      "<class 'pandas.core.frame.DataFrame'>\n",
      "RangeIndex: 113937 entries, 0 to 113936\n",
      "Data columns (total 12 columns):\n",
      "ListingCreationDate          113937 non-null object\n",
      "Term                         113937 non-null int64\n",
      "LoanStatus                   113937 non-null object\n",
      "ClosedDate                   55089 non-null object\n",
      "BorrowerRate                 113937 non-null float64\n",
      "ProsperRating (numeric)      84853 non-null float64\n",
      "ListingCategory (numeric)    113937 non-null int64\n",
      "BorrowerState                108422 non-null object\n",
      "EmploymentStatus             111682 non-null object\n",
      "IsBorrowerHomeowner          113937 non-null bool\n",
      "IncomeRange                  113937 non-null object\n",
      "LoanOriginalAmount           113937 non-null int64\n",
      "dtypes: bool(1), float64(2), int64(3), object(6)\n",
      "memory usage: 9.7+ MB\n"
     ]
    }
   ],
   "source": [
    "# check if all selected columns are in the new dataset\n",
    "df_loan.info()"
   ]
  },
  {
   "cell_type": "markdown",
   "metadata": {},
   "source": [
    "`ListingCreateDate` and `ClosedDate` should be datetime variable instead string"
   ]
  },
  {
   "cell_type": "code",
   "execution_count": 126,
   "metadata": {},
   "outputs": [],
   "source": [
    "# change variable type from string to datetime\n",
    "df_loan['ListingCreationDate'] = pd.to_datetime(df_loan['ListingCreationDate']) \n",
    "df_loan['ClosedDate'] = pd.to_datetime(df_loan['ClosedDate'])"
   ]
  },
  {
   "cell_type": "code",
   "execution_count": 127,
   "metadata": {},
   "outputs": [
    {
     "name": "stdout",
     "output_type": "stream",
     "text": [
      "<class 'pandas.core.frame.DataFrame'>\n",
      "RangeIndex: 113937 entries, 0 to 113936\n",
      "Data columns (total 12 columns):\n",
      "ListingCreationDate          113937 non-null datetime64[ns]\n",
      "Term                         113937 non-null int64\n",
      "LoanStatus                   113937 non-null object\n",
      "ClosedDate                   55089 non-null datetime64[ns]\n",
      "BorrowerRate                 113937 non-null float64\n",
      "ProsperRating (numeric)      84853 non-null float64\n",
      "ListingCategory (numeric)    113937 non-null int64\n",
      "BorrowerState                108422 non-null object\n",
      "EmploymentStatus             111682 non-null object\n",
      "IsBorrowerHomeowner          113937 non-null bool\n",
      "IncomeRange                  113937 non-null object\n",
      "LoanOriginalAmount           113937 non-null int64\n",
      "dtypes: bool(1), datetime64[ns](2), float64(2), int64(3), object(4)\n",
      "memory usage: 9.7+ MB\n"
     ]
    }
   ],
   "source": [
    "# check variable change result\n",
    "df_loan.info()"
   ]
  },
  {
   "cell_type": "markdown",
   "metadata": {},
   "source": [
    "## Univariate Exploration"
   ]
  },
  {
   "cell_type": "markdown",
   "metadata": {},
   "source": [
    "**Loan dataset Timedelta**"
   ]
  },
  {
   "cell_type": "markdown",
   "metadata": {},
   "source": [
    "**Question?**\n",
    "- What's the time delta of this dataset?"
   ]
  },
  {
   "cell_type": "code",
   "execution_count": 128,
   "metadata": {},
   "outputs": [
    {
     "data": {
      "text/plain": [
       "Timedelta('3042 days 15:36:24.913000')"
      ]
     },
     "execution_count": 128,
     "metadata": {},
     "output_type": "execute_result"
    }
   ],
   "source": [
    "loan_time_delta_days = df_loan['ListingCreationDate'].max() - df_loan['ListingCreationDate'].min()\n",
    "loan_time_delta_days"
   ]
  },
  {
   "cell_type": "code",
   "execution_count": 129,
   "metadata": {},
   "outputs": [
    {
     "data": {
      "text/plain": [
       "Timedelta('8 days 08:03:52.835378')"
      ]
     },
     "execution_count": 129,
     "metadata": {},
     "output_type": "execute_result"
    }
   ],
   "source": [
    "loan_time_delta_years = loan_time_delta_days/365\n",
    "loan_time_delta_years"
   ]
  },
  {
   "cell_type": "code",
   "execution_count": 130,
   "metadata": {},
   "outputs": [
    {
     "data": {
      "text/plain": [
       "Timestamp('2014-03-10 12:20:53.760000')"
      ]
     },
     "execution_count": 130,
     "metadata": {},
     "output_type": "execute_result"
    }
   ],
   "source": [
    "df_loan['ListingCreationDate'].max()"
   ]
  },
  {
   "cell_type": "code",
   "execution_count": 131,
   "metadata": {},
   "outputs": [
    {
     "data": {
      "text/plain": [
       "Timestamp('2005-11-09 20:44:28.847000')"
      ]
     },
     "execution_count": 131,
     "metadata": {},
     "output_type": "execute_result"
    }
   ],
   "source": [
    "df_loan['ListingCreationDate'].min()"
   ]
  },
  {
   "cell_type": "markdown",
   "metadata": {},
   "source": [
    "In this dataset are present loan data from 09/11/2005 to 03/10/2014 (8 years or 3042 days)"
   ]
  },
  {
   "cell_type": "markdown",
   "metadata": {},
   "source": [
    "`Term`"
   ]
  },
  {
   "cell_type": "markdown",
   "metadata": {},
   "source": [
    "**Question:**\n",
    "- What are the loan terms for Prosper Loans? How long does it take each loan term? Is there a prefered term?"
   ]
  },
  {
   "cell_type": "code",
   "execution_count": 132,
   "metadata": {},
   "outputs": [
    {
     "data": {
      "text/plain": [
       "36    87778\n",
       "60    24545\n",
       "12     1614\n",
       "Name: Term, dtype: int64"
      ]
     },
     "execution_count": 132,
     "metadata": {},
     "output_type": "execute_result"
    }
   ],
   "source": [
    "df_loan['Term'].value_counts()"
   ]
  },
  {
   "cell_type": "code",
   "execution_count": 133,
   "metadata": {},
   "outputs": [
    {
     "data": {
      "image/png": "[encoded data removed]",
      "text/plain": [
       "<Figure size 432x288 with 1 Axes>"
      ]
     },
     "metadata": {
      "needs_background": "light"
     },
     "output_type": "display_data"
    }
   ],
   "source": [
    "df_loan['Term'].value_counts().plot(kind='bar');\n",
    "plt.title('Loan Term (in Months)')\n",
    "plt.xlabel('Time in months')\n",
    "plt.ylabel('Frequency of loans');"
   ]
  },
  {
   "cell_type": "markdown",
   "metadata": {},
   "source": [
    "Three different time terms: 1- 36 months (most common), 2- 60 months, 3- 12 months (less common). Further we should analyse together other variables like Borrower Rating or Loan Original Amount, by itself this variable does not tell us too much things."
   ]
  },
  {
   "cell_type": "markdown",
   "metadata": {},
   "source": [
    "`LoanStatus` "
   ]
  },
  {
   "cell_type": "markdown",
   "metadata": {},
   "source": [
    "**Questions:**\n",
    "- What are the loan status for Prosper loans?\n",
    "- What is the rate of troubled loans?\n",
    "\n",
    "Troubled loans = loans where the payments haven't been completed or is not Current status"
   ]
  },
  {
   "cell_type": "markdown",
   "metadata": {},
   "source": [
    "Here we have a summary of each Loan Status meaning, according to https://help.bitbond.com/article/20-the-10-loan-status-variants-explained website:\n",
    "\n",
    "- **Currrent:** A loan can have the status ‘current’ when one or more payments have been completed and no payments are past due. It also means that this loan still has one or more scheduled future payments. \n",
    "- **Completed:** A ‘completed’ loan has been repaid in full including all principal and interest payments. \n",
    "- **Chargedoff:** After a loan has been defaulted we take action as described below. Once our actions and those of the debt collection agencies that we work with are completed, the loan is ‘charged off’. From this status everybody knows that no further action is taken on this loan and all dunning, collection and legal measures that are possible have been completed.\n",
    "- **Defaulted:** When a loan has one or more payments that are overdue for over 120 days (in this case) the loan is considered as ‘defaulted’. After a loan has reached this status we decide individually what happens next.\n",
    "- **Past Due:** When one or more payments of a loan are overdue for more than 15, 30, 60, 90 or 120 days."
   ]
  },
  {
   "cell_type": "code",
   "execution_count": 134,
   "metadata": {},
   "outputs": [
    {
     "data": {
      "text/plain": [
       "Current                   56576\n",
       "Completed                 38074\n",
       "Chargedoff                11992\n",
       "Defaulted                  5018\n",
       "Past Due (1-15 days)        806\n",
       "Past Due (31-60 days)       363\n",
       "Past Due (61-90 days)       313\n",
       "Past Due (91-120 days)      304\n",
       "Past Due (16-30 days)       265\n",
       "FinalPaymentInProgress      205\n",
       "Past Due (>120 days)         16\n",
       "Cancelled                     5\n",
       "Name: LoanStatus, dtype: int64"
      ]
     },
     "execution_count": 134,
     "metadata": {},
     "output_type": "execute_result"
    }
   ],
   "source": [
    "df_loan['LoanStatus'].value_counts()"
   ]
  },
  {
   "cell_type": "code",
   "execution_count": 135,
   "metadata": {},
   "outputs": [
    {
     "data": {
      "image/png": "[encoded data removed]",
      "text/plain": [
       "<Figure size 432x288 with 1 Axes>"
      ]
     },
     "metadata": {
      "needs_background": "light"
     },
     "output_type": "display_data"
    }
   ],
   "source": [
    "df_loan['LoanStatus'].value_counts().plot(kind='bar')\n",
    "plt.title('Loan Status')\n",
    "plt.xlabel('Status')\n",
    "plt.ylabel('Frequency');"
   ]
  },
  {
   "cell_type": "markdown",
   "metadata": {},
   "source": [
    "Most of loans has \"Current\", \"Completed\", \"Chargedoff\" or \"Defaulted\" status. \"Past due\" categories can be joined in a new single category."
   ]
  },
  {
   "cell_type": "code",
   "execution_count": 136,
   "metadata": {},
   "outputs": [
    {
     "data": {
      "text/plain": [
       "Index(['Current', 'Completed', 'Chargedoff', 'Defaulted',\n",
       "       'Past Due (1-15 days)', 'Past Due (31-60 days)',\n",
       "       'Past Due (61-90 days)', 'Past Due (91-120 days)',\n",
       "       'Past Due (16-30 days)', 'FinalPaymentInProgress',\n",
       "       'Past Due (>120 days)', 'Cancelled'],\n",
       "      dtype='object')"
      ]
     },
     "execution_count": 136,
     "metadata": {},
     "output_type": "execute_result"
    }
   ],
   "source": [
    "# Here starts the process in order to join all Past Due (xx-yy days) loans into a single Past Due loan status\n",
    "# get loan status indexes \n",
    "df_loan['LoanStatus'].value_counts().index"
   ]
  },
  {
   "cell_type": "code",
   "execution_count": 137,
   "metadata": {},
   "outputs": [
    {
     "data": {
      "text/plain": [
       "'Past Due'"
      ]
     },
     "execution_count": 137,
     "metadata": {},
     "output_type": "execute_result"
    }
   ],
   "source": [
    "# from the index list ahead we know the \"Past Due\" are from the position five\n",
    "# here the intention is to filter the 'Past Due' string. This string is going to be included in a new list further\n",
    "df_loan['LoanStatus'].value_counts().index[5][:8]"
   ]
  },
  {
   "cell_type": "code",
   "execution_count": 138,
   "metadata": {},
   "outputs": [
    {
     "data": {
      "text/plain": [
       "8"
      ]
     },
     "execution_count": 138,
     "metadata": {},
     "output_type": "execute_result"
    }
   ],
   "source": [
    "#string assignment and count of letters\n",
    "past_due = df_loan['LoanStatus'].value_counts().index[5][:8]\n",
    "len(past_due)"
   ]
  },
  {
   "cell_type": "code",
   "execution_count": 139,
   "metadata": {},
   "outputs": [
    {
     "data": {
      "text/plain": [
       "2067"
      ]
     },
     "execution_count": 139,
     "metadata": {},
     "output_type": "execute_result"
    }
   ],
   "source": [
    "# sum of all \"Past Due\" status values and add these values into a single variable\n",
    "past_due_list = []\n",
    "for index in df_loan['LoanStatus'].value_counts().index:\n",
    "    if index[:8] == past_due:\n",
    "        past_due_list.append(df_loan['LoanStatus'].value_counts()[index])\n",
    "          \n",
    "past_due_sum = sum(past_due_list )\n",
    "past_due_sum"
   ]
  },
  {
   "cell_type": "code",
   "execution_count": 140,
   "metadata": {},
   "outputs": [
    {
     "data": {
      "text/plain": [
       "[56576, 38074, 11992, 5018, 2067]"
      ]
     },
     "execution_count": 140,
     "metadata": {},
     "output_type": "execute_result"
    }
   ],
   "source": [
    "# make a new list with Current, Completed, Chargedoff values\n",
    "loan_status_list = list(df_loan['LoanStatus'].value_counts()[0:4])\n",
    "loan_status_list.append(past_due_sum)\n",
    "loan_status_list"
   ]
  },
  {
   "cell_type": "code",
   "execution_count": 141,
   "metadata": {},
   "outputs": [
    {
     "data": {
      "text/plain": [
       "['Current', 'Completed', 'Chargedoff', 'Defaulted', 'Past Due']"
      ]
     },
     "execution_count": 141,
     "metadata": {},
     "output_type": "execute_result"
    }
   ],
   "source": [
    "# make a new list with Current, Completed, Chargedoff and Past Due names\n",
    "column_name = list(df_loan['LoanStatus'].value_counts().index[0:4])\n",
    "column_name.append(past_due)\n",
    "column_name"
   ]
  },
  {
   "cell_type": "code",
   "execution_count": 142,
   "metadata": {},
   "outputs": [
    {
     "data": {
      "text/html": [
       "<div>\n",
       "<style scoped>\n",
       "    .dataframe tbody tr th:only-of-type {\n",
       "        vertical-align: middle;\n",
       "    }\n",
       "\n",
       "    .dataframe tbody tr th {\n",
       "        vertical-align: top;\n",
       "    }\n",
       "\n",
       "    .dataframe thead th {\n",
       "        text-align: right;\n",
       "    }\n",
       "</style>\n",
       "<table border=\"1\" class=\"dataframe\">\n",
       "  <thead>\n",
       "    <tr style=\"text-align: right;\">\n",
       "      <th></th>\n",
       "      <th>Loan_Status_Count</th>\n",
       "    </tr>\n",
       "  </thead>\n",
       "  <tbody>\n",
       "    <tr>\n",
       "      <td>Current</td>\n",
       "      <td>56576</td>\n",
       "    </tr>\n",
       "    <tr>\n",
       "      <td>Completed</td>\n",
       "      <td>38074</td>\n",
       "    </tr>\n",
       "    <tr>\n",
       "      <td>Chargedoff</td>\n",
       "      <td>11992</td>\n",
       "    </tr>\n",
       "    <tr>\n",
       "      <td>Defaulted</td>\n",
       "      <td>5018</td>\n",
       "    </tr>\n",
       "    <tr>\n",
       "      <td>Past Due</td>\n",
       "      <td>2067</td>\n",
       "    </tr>\n",
       "  </tbody>\n",
       "</table>\n",
       "</div>"
      ],
      "text/plain": [
       "            Loan_Status_Count\n",
       "Current                 56576\n",
       "Completed               38074\n",
       "Chargedoff              11992\n",
       "Defaulted                5018\n",
       "Past Due                 2067"
      ]
     },
     "execution_count": 142,
     "metadata": {},
     "output_type": "execute_result"
    }
   ],
   "source": [
    "# create an updated DataFrame with a new category Past Due\n",
    "loan_status = pd.DataFrame(loan_status_list, column_name)\n",
    "loan_status.rename(columns= {0:'Loan_Status_Count'}, inplace = True)\n",
    "loan_status"
   ]
  },
  {
   "cell_type": "markdown",
   "metadata": {},
   "source": [
    "Then we have a barplot with the five main Loan Status categories:"
   ]
  },
  {
   "cell_type": "code",
   "execution_count": 143,
   "metadata": {},
   "outputs": [
    {
     "data": {
      "image/png": "[encoded data removed]",
      "text/plain": [
       "<Figure size 432x288 with 1 Axes>"
      ]
     },
     "metadata": {
      "needs_background": "light"
     },
     "output_type": "display_data"
    }
   ],
   "source": [
    "loan_status.plot(kind='bar');\n",
    "plt.title('Loan Status')\n",
    "plt.xlabel('Status')\n",
    "plt.ylabel('Frequency');"
   ]
  },
  {
   "cell_type": "markdown",
   "metadata": {},
   "source": [
    "Here we can make a new transformations joining Past Due, Defaulted and Charged Off into a new variable named **\"Troubled Loans\"**"
   ]
  },
  {
   "cell_type": "code",
   "execution_count": 144,
   "metadata": {},
   "outputs": [
    {
     "data": {
      "text/plain": [
       "19077"
      ]
     },
     "execution_count": 144,
     "metadata": {},
     "output_type": "execute_result"
    }
   ],
   "source": [
    "# sum the ChargedOff, Defaulted and PastDue into a new variable\n",
    "troubled_loans = sum(loan_status['Loan_Status_Count'][2:])\n",
    "troubled_loans"
   ]
  },
  {
   "cell_type": "code",
   "execution_count": 145,
   "metadata": {},
   "outputs": [
    {
     "data": {
      "text/plain": [
       "[56576, 38074, 19077]"
      ]
     },
     "execution_count": 145,
     "metadata": {},
     "output_type": "execute_result"
    }
   ],
   "source": [
    "# create a new list with the total of each category and another list with the new\n",
    "new_column_name = ['Current', 'Completed', 'Troubled Loans']\n",
    "new_loan_status_list = [loan_status['Loan_Status_Count'][0], loan_status['Loan_Status_Count'][1], troubled_loans]\n",
    "new_loan_status_list"
   ]
  },
  {
   "cell_type": "code",
   "execution_count": 146,
   "metadata": {},
   "outputs": [
    {
     "data": {
      "text/html": [
       "<div>\n",
       "<style scoped>\n",
       "    .dataframe tbody tr th:only-of-type {\n",
       "        vertical-align: middle;\n",
       "    }\n",
       "\n",
       "    .dataframe tbody tr th {\n",
       "        vertical-align: top;\n",
       "    }\n",
       "\n",
       "    .dataframe thead th {\n",
       "        text-align: right;\n",
       "    }\n",
       "</style>\n",
       "<table border=\"1\" class=\"dataframe\">\n",
       "  <thead>\n",
       "    <tr style=\"text-align: right;\">\n",
       "      <th></th>\n",
       "      <th>Loan_Status_Count</th>\n",
       "    </tr>\n",
       "  </thead>\n",
       "  <tbody>\n",
       "    <tr>\n",
       "      <td>Current</td>\n",
       "      <td>56576</td>\n",
       "    </tr>\n",
       "    <tr>\n",
       "      <td>Completed</td>\n",
       "      <td>38074</td>\n",
       "    </tr>\n",
       "    <tr>\n",
       "      <td>Troubled Loans</td>\n",
       "      <td>19077</td>\n",
       "    </tr>\n",
       "  </tbody>\n",
       "</table>\n",
       "</div>"
      ],
      "text/plain": [
       "                Loan_Status_Count\n",
       "Current                     56576\n",
       "Completed                   38074\n",
       "Troubled Loans              19077"
      ]
     },
     "execution_count": 146,
     "metadata": {},
     "output_type": "execute_result"
    }
   ],
   "source": [
    "# create a new data frame, now ChargedOff, Defaulted and Past Due are a single category named Troubled Loans\n",
    "new_loan_status = pd.DataFrame(new_loan_status_list, new_column_name)\n",
    "new_loan_status.rename(columns= {0:'Loan_Status_Count'}, inplace = True)\n",
    "new_loan_status"
   ]
  },
  {
   "cell_type": "code",
   "execution_count": 147,
   "metadata": {},
   "outputs": [
    {
     "data": {
      "text/plain": [
       "113727"
      ]
     },
     "execution_count": 147,
     "metadata": {},
     "output_type": "execute_result"
    }
   ],
   "source": [
    "# sum of all loan status frequencies\n",
    "total_status = sum(new_loan_status['Loan_Status_Count'])\n",
    "total_status"
   ]
  },
  {
   "cell_type": "code",
   "execution_count": 148,
   "metadata": {},
   "outputs": [
    {
     "data": {
      "text/html": [
       "<div>\n",
       "<style scoped>\n",
       "    .dataframe tbody tr th:only-of-type {\n",
       "        vertical-align: middle;\n",
       "    }\n",
       "\n",
       "    .dataframe tbody tr th {\n",
       "        vertical-align: top;\n",
       "    }\n",
       "\n",
       "    .dataframe thead th {\n",
       "        text-align: right;\n",
       "    }\n",
       "</style>\n",
       "<table border=\"1\" class=\"dataframe\">\n",
       "  <thead>\n",
       "    <tr style=\"text-align: right;\">\n",
       "      <th></th>\n",
       "      <th>Loan_Status_Count</th>\n",
       "      <th>Status_Ratio</th>\n",
       "    </tr>\n",
       "  </thead>\n",
       "  <tbody>\n",
       "    <tr>\n",
       "      <td>Current</td>\n",
       "      <td>56576</td>\n",
       "      <td>0.50</td>\n",
       "    </tr>\n",
       "    <tr>\n",
       "      <td>Completed</td>\n",
       "      <td>38074</td>\n",
       "      <td>0.33</td>\n",
       "    </tr>\n",
       "    <tr>\n",
       "      <td>Troubled Loans</td>\n",
       "      <td>19077</td>\n",
       "      <td>0.17</td>\n",
       "    </tr>\n",
       "  </tbody>\n",
       "</table>\n",
       "</div>"
      ],
      "text/plain": [
       "                Loan_Status_Count  Status_Ratio\n",
       "Current                     56576          0.50\n",
       "Completed                   38074          0.33\n",
       "Troubled Loans              19077          0.17"
      ]
     },
     "execution_count": 148,
     "metadata": {},
     "output_type": "execute_result"
    }
   ],
   "source": [
    "# create a new variable named Status_Ratio\n",
    "new_loan_status['Status_Ratio'] = round(new_loan_status['Loan_Status_Count'] / total_status,2)\n",
    "new_loan_status"
   ]
  },
  {
   "cell_type": "markdown",
   "metadata": {},
   "source": [
    "What's the troubled loans proportion?"
   ]
  },
  {
   "cell_type": "code",
   "execution_count": 149,
   "metadata": {},
   "outputs": [
    {
     "data": {
      "image/png": "[encoded data removed]",
      "text/plain": [
       "<Figure size 432x288 with 1 Axes>"
      ]
     },
     "metadata": {},
     "output_type": "display_data"
    }
   ],
   "source": [
    "label = list(new_loan_status.index) \n",
    "plt.pie(data = new_loan_status, x= 'Status_Ratio',  labels = label, autopct = '%1.1f%%')\n",
    "plt.title('Loan Status Ratios');"
   ]
  },
  {
   "cell_type": "markdown",
   "metadata": {},
   "source": [
    "Half of the Prosper's loans have the status **Current** (i.e: A loan when one or more payments have been completed and no payments are past due. It also means that this loan still has one or more scheduled future payments.)\n",
    "One third are already completed and 17% have had some trouble. These 17% could be compared to other companies of the same field to know if Prosper has a high ratio of troubled loans. "
   ]
  },
  {
   "cell_type": "markdown",
   "metadata": {},
   "source": [
    "`BorrowerRate` - Histogram of the loan rates "
   ]
  },
  {
   "cell_type": "markdown",
   "metadata": {},
   "source": [
    "**Question:**\n",
    "- What is the distribution of loan interest rates?"
   ]
  },
  {
   "cell_type": "code",
   "execution_count": 150,
   "metadata": {},
   "outputs": [
    {
     "data": {
      "image/png": "[encoded data removed]",
      "text/plain": [
       "<Figure size 432x288 with 1 Axes>"
      ]
     },
     "metadata": {
      "needs_background": "light"
     },
     "output_type": "display_data"
    }
   ],
   "source": [
    "df_loan['BorrowerRate'].plot(kind='hist')\n",
    "plt.title('Loan Interest Rates Distribution')\n",
    "plt.xlabel('Rate per annum (%)');"
   ]
  },
  {
   "cell_type": "code",
   "execution_count": 151,
   "metadata": {},
   "outputs": [
    {
     "data": {
      "text/plain": [
       "0.1928"
      ]
     },
     "execution_count": 151,
     "metadata": {},
     "output_type": "execute_result"
    }
   ],
   "source": [
    "# obtain the mean of interest rates\n",
    "round(df_loan['BorrowerRate'].mean(),4)"
   ]
  },
  {
   "cell_type": "markdown",
   "metadata": {},
   "source": [
    "The mean of the interest rate is  19.28%. It can be analyzed with another variable further in a bivariate analysis with Borrower Rate and LoanOriginalAmount."
   ]
  },
  {
   "cell_type": "markdown",
   "metadata": {},
   "source": [
    "`ProsperRating (numeric)`:\n",
    "According to Prosper Wikipedia: **\"Prosper has provided a proprietary \"Prosper Rating\" for prospective borrowers based on the company's estimation of that borrower's \"estimated loss rate.\"**\n",
    "\n",
    "The  Prosper Rating assigned at the time the listing was created:\n",
    "- 0: N/A\n",
    "- 1: HR (Higher Risk)\n",
    "- 2: E\n",
    "- 3: D\n",
    "- 4: C\n",
    "- 5: B\n",
    "- 6: A\n",
    "- 7: AA (Applicable for loans originated after July 2009) - Lower "
   ]
  },
  {
   "cell_type": "markdown",
   "metadata": {},
   "source": [
    "**Question:**\n",
    "- What is the most common Rating for Prosper loans? "
   ]
  },
  {
   "cell_type": "code",
   "execution_count": 152,
   "metadata": {},
   "outputs": [
    {
     "data": {
      "text/plain": [
       "29084"
      ]
     },
     "execution_count": 152,
     "metadata": {},
     "output_type": "execute_result"
    }
   ],
   "source": [
    "# number of null values\n",
    "sum(df_loan['ProsperRating (numeric)'].isnull())"
   ]
  },
  {
   "cell_type": "code",
   "execution_count": 153,
   "metadata": {},
   "outputs": [
    {
     "data": {
      "text/plain": [
       "4.0    18345\n",
       "5.0    15581\n",
       "6.0    14551\n",
       "3.0    14274\n",
       "2.0     9795\n",
       "1.0     6935\n",
       "7.0     5372\n",
       "Name: ProsperRating (numeric), dtype: int64"
      ]
     },
     "execution_count": 153,
     "metadata": {},
     "output_type": "execute_result"
    }
   ],
   "source": [
    "# count of each category\n",
    "df_loan['ProsperRating (numeric)'].value_counts()"
   ]
  },
  {
   "cell_type": "code",
   "execution_count": 154,
   "metadata": {},
   "outputs": [],
   "source": [
    "# new list with all the categories from the worst to the best possible rating\n",
    "prosper_rating_list = ['N/A', 'HR', 'E', 'D', 'C', 'B', 'A', 'AA']"
   ]
  },
  {
   "cell_type": "code",
   "execution_count": 155,
   "metadata": {},
   "outputs": [
    {
     "name": "stdout",
     "output_type": "stream",
     "text": [
      "0 N/A\n",
      "1 HR\n",
      "2 E\n",
      "3 D\n",
      "4 C\n",
      "5 B\n",
      "6 A\n",
      "7 AA\n"
     ]
    }
   ],
   "source": [
    "# check the list\n",
    "for i, v in enumerate(prosper_rating_list):\n",
    "    print(i,v)"
   ]
  },
  {
   "cell_type": "code",
   "execution_count": 156,
   "metadata": {},
   "outputs": [],
   "source": [
    "# create the edges of each category\n",
    "bin_edges = np.arange(-1, 8, 1)"
   ]
  },
  {
   "cell_type": "code",
   "execution_count": 157,
   "metadata": {},
   "outputs": [
    {
     "data": {
      "text/plain": [
       "9"
      ]
     },
     "execution_count": 157,
     "metadata": {},
     "output_type": "execute_result"
    }
   ],
   "source": [
    "# check the bin list size \n",
    "len(bin_edges)"
   ]
  },
  {
   "cell_type": "code",
   "execution_count": 158,
   "metadata": {},
   "outputs": [
    {
     "data": {
      "text/html": [
       "<div>\n",
       "<style scoped>\n",
       "    .dataframe tbody tr th:only-of-type {\n",
       "        vertical-align: middle;\n",
       "    }\n",
       "\n",
       "    .dataframe tbody tr th {\n",
       "        vertical-align: top;\n",
       "    }\n",
       "\n",
       "    .dataframe thead th {\n",
       "        text-align: right;\n",
       "    }\n",
       "</style>\n",
       "<table border=\"1\" class=\"dataframe\">\n",
       "  <thead>\n",
       "    <tr style=\"text-align: right;\">\n",
       "      <th></th>\n",
       "      <th>ListingCreationDate</th>\n",
       "      <th>Term</th>\n",
       "      <th>LoanStatus</th>\n",
       "      <th>ClosedDate</th>\n",
       "      <th>BorrowerRate</th>\n",
       "      <th>ProsperRating (numeric)</th>\n",
       "      <th>ListingCategory (numeric)</th>\n",
       "      <th>BorrowerState</th>\n",
       "      <th>EmploymentStatus</th>\n",
       "      <th>IsBorrowerHomeowner</th>\n",
       "      <th>IncomeRange</th>\n",
       "      <th>LoanOriginalAmount</th>\n",
       "      <th>ProsperRating</th>\n",
       "    </tr>\n",
       "  </thead>\n",
       "  <tbody>\n",
       "    <tr>\n",
       "      <td>0</td>\n",
       "      <td>2007-08-26 19:09:29.263</td>\n",
       "      <td>36</td>\n",
       "      <td>Completed</td>\n",
       "      <td>2009-08-14</td>\n",
       "      <td>0.1580</td>\n",
       "      <td>NaN</td>\n",
       "      <td>0</td>\n",
       "      <td>CO</td>\n",
       "      <td>Self-employed</td>\n",
       "      <td>True</td>\n",
       "      <td>$25,000-49,999</td>\n",
       "      <td>9425</td>\n",
       "      <td>NaN</td>\n",
       "    </tr>\n",
       "    <tr>\n",
       "      <td>1</td>\n",
       "      <td>2014-02-27 08:28:07.900</td>\n",
       "      <td>36</td>\n",
       "      <td>Current</td>\n",
       "      <td>NaT</td>\n",
       "      <td>0.0920</td>\n",
       "      <td>6.0</td>\n",
       "      <td>2</td>\n",
       "      <td>CO</td>\n",
       "      <td>Employed</td>\n",
       "      <td>False</td>\n",
       "      <td>$50,000-74,999</td>\n",
       "      <td>10000</td>\n",
       "      <td>A</td>\n",
       "    </tr>\n",
       "    <tr>\n",
       "      <td>2</td>\n",
       "      <td>2007-01-05 15:00:47.090</td>\n",
       "      <td>36</td>\n",
       "      <td>Completed</td>\n",
       "      <td>2009-12-17</td>\n",
       "      <td>0.2750</td>\n",
       "      <td>NaN</td>\n",
       "      <td>0</td>\n",
       "      <td>GA</td>\n",
       "      <td>Not available</td>\n",
       "      <td>False</td>\n",
       "      <td>Not displayed</td>\n",
       "      <td>3001</td>\n",
       "      <td>NaN</td>\n",
       "    </tr>\n",
       "    <tr>\n",
       "      <td>3</td>\n",
       "      <td>2012-10-22 11:02:35.010</td>\n",
       "      <td>36</td>\n",
       "      <td>Current</td>\n",
       "      <td>NaT</td>\n",
       "      <td>0.0974</td>\n",
       "      <td>6.0</td>\n",
       "      <td>16</td>\n",
       "      <td>GA</td>\n",
       "      <td>Employed</td>\n",
       "      <td>True</td>\n",
       "      <td>$25,000-49,999</td>\n",
       "      <td>10000</td>\n",
       "      <td>A</td>\n",
       "    </tr>\n",
       "    <tr>\n",
       "      <td>4</td>\n",
       "      <td>2013-09-14 18:38:39.097</td>\n",
       "      <td>36</td>\n",
       "      <td>Current</td>\n",
       "      <td>NaT</td>\n",
       "      <td>0.2085</td>\n",
       "      <td>3.0</td>\n",
       "      <td>2</td>\n",
       "      <td>MN</td>\n",
       "      <td>Employed</td>\n",
       "      <td>True</td>\n",
       "      <td>$100,000+</td>\n",
       "      <td>15000</td>\n",
       "      <td>D</td>\n",
       "    </tr>\n",
       "  </tbody>\n",
       "</table>\n",
       "</div>"
      ],
      "text/plain": [
       "      ListingCreationDate  Term LoanStatus ClosedDate  BorrowerRate  \\\n",
       "0 2007-08-26 19:09:29.263    36  Completed 2009-08-14        0.1580   \n",
       "1 2014-02-27 08:28:07.900    36    Current        NaT        0.0920   \n",
       "2 2007-01-05 15:00:47.090    36  Completed 2009-12-17        0.2750   \n",
       "3 2012-10-22 11:02:35.010    36    Current        NaT        0.0974   \n",
       "4 2013-09-14 18:38:39.097    36    Current        NaT        0.2085   \n",
       "\n",
       "   ProsperRating (numeric)  ListingCategory (numeric) BorrowerState  \\\n",
       "0                      NaN                          0            CO   \n",
       "1                      6.0                          2            CO   \n",
       "2                      NaN                          0            GA   \n",
       "3                      6.0                         16            GA   \n",
       "4                      3.0                          2            MN   \n",
       "\n",
       "  EmploymentStatus  IsBorrowerHomeowner     IncomeRange  LoanOriginalAmount  \\\n",
       "0    Self-employed                 True  $25,000-49,999                9425   \n",
       "1         Employed                False  $50,000-74,999               10000   \n",
       "2    Not available                False   Not displayed                3001   \n",
       "3         Employed                 True  $25,000-49,999               10000   \n",
       "4         Employed                 True       $100,000+               15000   \n",
       "\n",
       "  ProsperRating  \n",
       "0           NaN  \n",
       "1             A  \n",
       "2           NaN  \n",
       "3             A  \n",
       "4             D  "
      ]
     },
     "execution_count": 158,
     "metadata": {},
     "output_type": "execute_result"
    }
   ],
   "source": [
    "# Creates ListingCategory column\n",
    "df_loan['ProsperRating'] = pd.cut(df['ProsperRating (numeric)'], bin_edges, labels= prosper_rating_list)\n",
    "\n",
    "# Checks for successful creation of this column\n",
    "df_loan.head()"
   ]
  },
  {
   "cell_type": "code",
   "execution_count": 159,
   "metadata": {},
   "outputs": [
    {
     "data": {
      "text/plain": [
       "C      18345\n",
       "B      15581\n",
       "A      14551\n",
       "D      14274\n",
       "E       9795\n",
       "HR      6935\n",
       "AA      5372\n",
       "N/A        0\n",
       "Name: ProsperRating, dtype: int64"
      ]
     },
     "execution_count": 159,
     "metadata": {},
     "output_type": "execute_result"
    }
   ],
   "source": [
    "# now the value counts with the righ score instead a number\n",
    "df_loan['ProsperRating'].value_counts()"
   ]
  },
  {
   "cell_type": "markdown",
   "metadata": {},
   "source": [
    "N/A is the same of df_loan['ProsperRating].isnull() = 29084"
   ]
  },
  {
   "cell_type": "markdown",
   "metadata": {},
   "source": [
    "This number of \"Nan\" makes these 29084 entries impossible to analyse. Analysing from the second most common rating we can say the rating measure is more useful in a bivariate and multivariate analyis, for now it can be said the **most common score is C.**"
   ]
  },
  {
   "cell_type": "markdown",
   "metadata": {},
   "source": [
    "`ListingCategory` - Catgory that tells us why someone asked for a loan. Here we need a bar chart to have the sum of frequency of each category \n",
    "- 0 - Not Available\n",
    "- 1 - Debt Consolidation \n",
    "- 2 - Home Improvement \n",
    "- 3 - Business \n",
    "- 4 - Personal Loan \n",
    "- 5 - Student Use \n",
    "- 6 - Auto \n",
    "- 7 - Other \n",
    "- 8 - Baby&Adoption\n",
    "- 9 - Boat\n",
    "- 10 - Cosmetic Procedure \n",
    "- 11 - Engagement Ring \n",
    "- 12 - Green Loans \n",
    "- 13 - Household Expenses \n",
    "- 14 - Large Purchases \n",
    "- 15 - Medical/Dental \n",
    "- 16 - Motorcycle \n",
    "- 17 - RV \n",
    "- 18 - Taxes \n",
    "- 19 - Vacation \n",
    "- 20 - Wedding Loans"
   ]
  },
  {
   "cell_type": "markdown",
   "metadata": {},
   "source": [
    "**Question:**\n",
    "- What is the most common reason to someone ask for a loan?"
   ]
  },
  {
   "cell_type": "code",
   "execution_count": 160,
   "metadata": {},
   "outputs": [],
   "source": [
    "# create a list with each reason\n",
    "category_list = ['Not Available', 'Debt Consolidation', 'Home Improvement', 'Business', 'Personal Loan',\n",
    "                       'Student Use', 'Auto', 'Other', 'Baby&Adoption', 'Boat', 'Cosmetic Procedure', \n",
    "                        'Engagement Ring', 'Green Loans', 'Household Expenses','Large Purchases', 'Medical/Dental',\n",
    "                       'Motorcycle', 'RV', 'Taxes', 'Vacation', 'Wedding Loans']"
   ]
  },
  {
   "cell_type": "code",
   "execution_count": 161,
   "metadata": {},
   "outputs": [
    {
     "name": "stdout",
     "output_type": "stream",
     "text": [
      "0 Not Available\n",
      "1 Debt Consolidation\n",
      "2 Home Improvement\n",
      "3 Business\n",
      "4 Personal Loan\n",
      "5 Student Use\n",
      "6 Auto\n",
      "7 Other\n",
      "8 Baby&Adoption\n",
      "9 Boat\n",
      "10 Cosmetic Procedure\n",
      "11 Engagement Ring\n",
      "12 Green Loans\n",
      "13 Household Expenses\n",
      "14 Large Purchases\n",
      "15 Medical/Dental\n",
      "16 Motorcycle\n",
      "17 RV\n",
      "18 Taxes\n",
      "19 Vacation\n",
      "20 Wedding Loans\n"
     ]
    }
   ],
   "source": [
    "# check the list\n",
    "for i, v in enumerate(category_list):\n",
    "    print(i,v)"
   ]
  },
  {
   "cell_type": "code",
   "execution_count": 162,
   "metadata": {},
   "outputs": [],
   "source": [
    "# create the edges of each category\n",
    "bin_edges = np.arange(-1, 21, 1)"
   ]
  },
  {
   "cell_type": "code",
   "execution_count": 163,
   "metadata": {},
   "outputs": [
    {
     "data": {
      "text/html": [
       "<div>\n",
       "<style scoped>\n",
       "    .dataframe tbody tr th:only-of-type {\n",
       "        vertical-align: middle;\n",
       "    }\n",
       "\n",
       "    .dataframe tbody tr th {\n",
       "        vertical-align: top;\n",
       "    }\n",
       "\n",
       "    .dataframe thead th {\n",
       "        text-align: right;\n",
       "    }\n",
       "</style>\n",
       "<table border=\"1\" class=\"dataframe\">\n",
       "  <thead>\n",
       "    <tr style=\"text-align: right;\">\n",
       "      <th></th>\n",
       "      <th>ListingCreationDate</th>\n",
       "      <th>Term</th>\n",
       "      <th>LoanStatus</th>\n",
       "      <th>ClosedDate</th>\n",
       "      <th>BorrowerRate</th>\n",
       "      <th>ProsperRating (numeric)</th>\n",
       "      <th>ListingCategory (numeric)</th>\n",
       "      <th>BorrowerState</th>\n",
       "      <th>EmploymentStatus</th>\n",
       "      <th>IsBorrowerHomeowner</th>\n",
       "      <th>IncomeRange</th>\n",
       "      <th>LoanOriginalAmount</th>\n",
       "      <th>ProsperRating</th>\n",
       "      <th>ListingCategory</th>\n",
       "    </tr>\n",
       "  </thead>\n",
       "  <tbody>\n",
       "    <tr>\n",
       "      <td>0</td>\n",
       "      <td>2007-08-26 19:09:29.263</td>\n",
       "      <td>36</td>\n",
       "      <td>Completed</td>\n",
       "      <td>2009-08-14</td>\n",
       "      <td>0.1580</td>\n",
       "      <td>NaN</td>\n",
       "      <td>0</td>\n",
       "      <td>CO</td>\n",
       "      <td>Self-employed</td>\n",
       "      <td>True</td>\n",
       "      <td>$25,000-49,999</td>\n",
       "      <td>9425</td>\n",
       "      <td>NaN</td>\n",
       "      <td>Not Available</td>\n",
       "    </tr>\n",
       "    <tr>\n",
       "      <td>1</td>\n",
       "      <td>2014-02-27 08:28:07.900</td>\n",
       "      <td>36</td>\n",
       "      <td>Current</td>\n",
       "      <td>NaT</td>\n",
       "      <td>0.0920</td>\n",
       "      <td>6.0</td>\n",
       "      <td>2</td>\n",
       "      <td>CO</td>\n",
       "      <td>Employed</td>\n",
       "      <td>False</td>\n",
       "      <td>$50,000-74,999</td>\n",
       "      <td>10000</td>\n",
       "      <td>A</td>\n",
       "      <td>Home Improvement</td>\n",
       "    </tr>\n",
       "    <tr>\n",
       "      <td>2</td>\n",
       "      <td>2007-01-05 15:00:47.090</td>\n",
       "      <td>36</td>\n",
       "      <td>Completed</td>\n",
       "      <td>2009-12-17</td>\n",
       "      <td>0.2750</td>\n",
       "      <td>NaN</td>\n",
       "      <td>0</td>\n",
       "      <td>GA</td>\n",
       "      <td>Not available</td>\n",
       "      <td>False</td>\n",
       "      <td>Not displayed</td>\n",
       "      <td>3001</td>\n",
       "      <td>NaN</td>\n",
       "      <td>Not Available</td>\n",
       "    </tr>\n",
       "    <tr>\n",
       "      <td>3</td>\n",
       "      <td>2012-10-22 11:02:35.010</td>\n",
       "      <td>36</td>\n",
       "      <td>Current</td>\n",
       "      <td>NaT</td>\n",
       "      <td>0.0974</td>\n",
       "      <td>6.0</td>\n",
       "      <td>16</td>\n",
       "      <td>GA</td>\n",
       "      <td>Employed</td>\n",
       "      <td>True</td>\n",
       "      <td>$25,000-49,999</td>\n",
       "      <td>10000</td>\n",
       "      <td>A</td>\n",
       "      <td>Motorcycle</td>\n",
       "    </tr>\n",
       "    <tr>\n",
       "      <td>4</td>\n",
       "      <td>2013-09-14 18:38:39.097</td>\n",
       "      <td>36</td>\n",
       "      <td>Current</td>\n",
       "      <td>NaT</td>\n",
       "      <td>0.2085</td>\n",
       "      <td>3.0</td>\n",
       "      <td>2</td>\n",
       "      <td>MN</td>\n",
       "      <td>Employed</td>\n",
       "      <td>True</td>\n",
       "      <td>$100,000+</td>\n",
       "      <td>15000</td>\n",
       "      <td>D</td>\n",
       "      <td>Home Improvement</td>\n",
       "    </tr>\n",
       "  </tbody>\n",
       "</table>\n",
       "</div>"
      ],
      "text/plain": [
       "      ListingCreationDate  Term LoanStatus ClosedDate  BorrowerRate  \\\n",
       "0 2007-08-26 19:09:29.263    36  Completed 2009-08-14        0.1580   \n",
       "1 2014-02-27 08:28:07.900    36    Current        NaT        0.0920   \n",
       "2 2007-01-05 15:00:47.090    36  Completed 2009-12-17        0.2750   \n",
       "3 2012-10-22 11:02:35.010    36    Current        NaT        0.0974   \n",
       "4 2013-09-14 18:38:39.097    36    Current        NaT        0.2085   \n",
       "\n",
       "   ProsperRating (numeric)  ListingCategory (numeric) BorrowerState  \\\n",
       "0                      NaN                          0            CO   \n",
       "1                      6.0                          2            CO   \n",
       "2                      NaN                          0            GA   \n",
       "3                      6.0                         16            GA   \n",
       "4                      3.0                          2            MN   \n",
       "\n",
       "  EmploymentStatus  IsBorrowerHomeowner     IncomeRange  LoanOriginalAmount  \\\n",
       "0    Self-employed                 True  $25,000-49,999                9425   \n",
       "1         Employed                False  $50,000-74,999               10000   \n",
       "2    Not available                False   Not displayed                3001   \n",
       "3         Employed                 True  $25,000-49,999               10000   \n",
       "4         Employed                 True       $100,000+               15000   \n",
       "\n",
       "  ProsperRating   ListingCategory  \n",
       "0           NaN     Not Available  \n",
       "1             A  Home Improvement  \n",
       "2           NaN     Not Available  \n",
       "3             A        Motorcycle  \n",
       "4             D  Home Improvement  "
      ]
     },
     "execution_count": 163,
     "metadata": {},
     "output_type": "execute_result"
    }
   ],
   "source": [
    "# Creates ListingCategory column\n",
    "df_loan['ListingCategory'] = pd.cut(df['ListingCategory (numeric)'], bin_edges, labels=category_list)\n",
    "\n",
    "# Checks for successful creation of this column\n",
    "df_loan.head()"
   ]
  },
  {
   "cell_type": "code",
   "execution_count": 164,
   "metadata": {},
   "outputs": [
    {
     "data": {
      "text/plain": [
       "Debt Consolidation    58308\n",
       "Not Available         16965\n",
       "Other                 10494\n",
       "Home Improvement       7433\n",
       "Business               7189\n",
       "Auto                   2572\n",
       "Personal Loan          2395\n",
       "Household Expenses     1996\n",
       "Medical/Dental         1522\n",
       "Taxes                   885\n",
       "Large Purchases         876\n",
       "Wedding Loans           771\n",
       "Vacation                768\n",
       "Student Use             756\n",
       "Motorcycle              304\n",
       "Engagement Ring         217\n",
       "Baby&Adoption           199\n",
       "Cosmetic Procedure       91\n",
       "Boat                     85\n",
       "Green Loans              59\n",
       "RV                       52\n",
       "Name: ListingCategory, dtype: int64"
      ]
     },
     "execution_count": 164,
     "metadata": {},
     "output_type": "execute_result"
    }
   ],
   "source": [
    "df_loan['ListingCategory'].value_counts()"
   ]
  },
  {
   "cell_type": "code",
   "execution_count": 165,
   "metadata": {},
   "outputs": [
    {
     "data": {
      "image/png": "[encoded data removed]",
      "text/plain": [
       "<Figure size 432x288 with 1 Axes>"
      ]
     },
     "metadata": {
      "needs_background": "light"
     },
     "output_type": "display_data"
    }
   ],
   "source": [
    "df_loan['ListingCategory'].value_counts().plot(kind='bar');\n",
    "plt.title('Reasons people use to ask a loan')\n",
    "plt.xlabel('Reason')\n",
    "plt.ylabel('Frequency of loans');"
   ]
  },
  {
   "cell_type": "code",
   "execution_count": 166,
   "metadata": {},
   "outputs": [
    {
     "data": {
      "image/png": "[encoded data removed]",
      "text/plain": [
       "<Figure size 432x288 with 1 Axes>"
      ]
     },
     "metadata": {
      "needs_background": "light"
     },
     "output_type": "display_data"
    }
   ],
   "source": [
    "# now plot the six most common categories:\n",
    "df_loan['ListingCategory'].value_counts()[0:6].plot(kind='bar');\n",
    "plt.title('Reasons people use to ask a loan')\n",
    "plt.xlabel('Reason')\n",
    "plt.ylabel('Frequency of loans');"
   ]
  },
  {
   "cell_type": "markdown",
   "metadata": {},
   "source": [
    "- According to Wikipedia **Debt Consolidations** (the most common cause of loans in this dataset) is a **\"form of debt refinancing that entails taking out one loan to pay off many others\", which mean these loans were taken in order to resolve another debts!** \n",
    "- The second most common category is **\"Not Available\"** which implies in missing data."
   ]
  },
  {
   "cell_type": "markdown",
   "metadata": {},
   "source": [
    "`BorrowerState` - Bar chart "
   ]
  },
  {
   "cell_type": "markdown",
   "metadata": {},
   "source": [
    "**Question:**\n",
    "- What are the states with more loans on Prosper?"
   ]
  },
  {
   "cell_type": "code",
   "execution_count": 167,
   "metadata": {},
   "outputs": [
    {
     "data": {
      "text/plain": [
       "51"
      ]
     },
     "execution_count": 167,
     "metadata": {},
     "output_type": "execute_result"
    }
   ],
   "source": [
    "# number of states present in the dataset\n",
    "df_loan['BorrowerState'].value_counts().shape[0]"
   ]
  },
  {
   "cell_type": "markdown",
   "metadata": {},
   "source": [
    "There are loans in all the 50 american states + DC"
   ]
  },
  {
   "cell_type": "markdown",
   "metadata": {},
   "source": [
    "Here it's a link with the meaning of each american state initial: https://www.50states.com/abbreviations.htm"
   ]
  },
  {
   "cell_type": "code",
   "execution_count": 168,
   "metadata": {},
   "outputs": [
    {
     "data": {
      "text/plain": [
       "CA    14717\n",
       "TX     6842\n",
       "NY     6729\n",
       "FL     6720\n",
       "IL     5921\n",
       "GA     5008\n",
       "OH     4197\n",
       "MI     3593\n",
       "VA     3278\n",
       "NJ     3097\n",
       "NC     3084\n",
       "WA     3048\n",
       "PA     2972\n",
       "MD     2821\n",
       "MO     2615\n",
       "MN     2318\n",
       "MA     2242\n",
       "CO     2210\n",
       "IN     2078\n",
       "AZ     1901\n",
       "WI     1842\n",
       "OR     1817\n",
       "TN     1737\n",
       "AL     1679\n",
       "CT     1627\n",
       "SC     1122\n",
       "NV     1090\n",
       "KS     1062\n",
       "KY      983\n",
       "OK      971\n",
       "LA      954\n",
       "UT      877\n",
       "AR      855\n",
       "MS      787\n",
       "NE      674\n",
       "ID      599\n",
       "NH      551\n",
       "NM      472\n",
       "RI      435\n",
       "HI      409\n",
       "WV      391\n",
       "DC      382\n",
       "MT      330\n",
       "DE      300\n",
       "VT      207\n",
       "AK      200\n",
       "SD      189\n",
       "IA      186\n",
       "WY      150\n",
       "ME      101\n",
       "ND       52\n",
       "Name: BorrowerState, dtype: int64"
      ]
     },
     "execution_count": 168,
     "metadata": {},
     "output_type": "execute_result"
    }
   ],
   "source": [
    "df_loan['BorrowerState'].value_counts()"
   ]
  },
  {
   "cell_type": "code",
   "execution_count": 169,
   "metadata": {},
   "outputs": [
    {
     "data": {
      "image/png": "[encoded data removed]",
      "text/plain": [
       "<Figure size 432x288 with 1 Axes>"
      ]
     },
     "metadata": {
      "needs_background": "light"
     },
     "output_type": "display_data"
    }
   ],
   "source": [
    "df_loan['BorrowerState'].value_counts().plot(kind='bar')\n",
    "plt.title('Frequency of loans per American State')\n",
    "plt.xlabel('American States')\n",
    "plt.ylabel('Frequency');"
   ]
  },
  {
   "cell_type": "code",
   "execution_count": 170,
   "metadata": {},
   "outputs": [
    {
     "data": {
      "image/png": "[encoded data removed]",
      "text/plain": [
       "<Figure size 432x288 with 1 Axes>"
      ]
     },
     "metadata": {
      "needs_background": "light"
     },
     "output_type": "display_data"
    }
   ],
   "source": [
    "# Plot the 5 most common states\n",
    "df_loan['BorrowerState'].value_counts()[0:5].plot(kind='bar')\n",
    "plt.title('Frequency of loans per American State')\n",
    "plt.xlabel('American States')\n",
    "plt.ylabel('Frequency');"
   ]
  },
  {
   "cell_type": "markdown",
   "metadata": {},
   "source": [
    "California is the state with more loans (more than the double of the second, third and fourth states with more loans) followed by Texas, New York, Florida and Illinois. Focus more on the loans made in California."
   ]
  },
  {
   "cell_type": "markdown",
   "metadata": {},
   "source": [
    "`EmploymentStatus`"
   ]
  },
  {
   "cell_type": "markdown",
   "metadata": {},
   "source": [
    "**Question:**\n",
    "- Is there a difference in the number of loans asked by employed and unemployed people?"
   ]
  },
  {
   "cell_type": "code",
   "execution_count": 171,
   "metadata": {},
   "outputs": [
    {
     "data": {
      "text/plain": [
       "Employed         67322\n",
       "Full-time        26355\n",
       "Self-employed     6134\n",
       "Not available     5347\n",
       "Other             3806\n",
       "Part-time         1088\n",
       "Not employed       835\n",
       "Retired            795\n",
       "Name: EmploymentStatus, dtype: int64"
      ]
     },
     "execution_count": 171,
     "metadata": {},
     "output_type": "execute_result"
    }
   ],
   "source": [
    "df_loan['EmploymentStatus'].value_counts()"
   ]
  },
  {
   "cell_type": "code",
   "execution_count": 172,
   "metadata": {},
   "outputs": [
    {
     "data": {
      "image/png": "[encoded data removed]",
      "text/plain": [
       "<Figure size 432x288 with 1 Axes>"
      ]
     },
     "metadata": {
      "needs_background": "light"
     },
     "output_type": "display_data"
    }
   ],
   "source": [
    "df_loan['EmploymentStatus'].value_counts().plot(kind='bar')\n",
    "plt.title('Employment Status Frequency')\n",
    "plt.xlabel('Status')\n",
    "plt.ylabel('Frequency');"
   ]
  },
  {
   "cell_type": "markdown",
   "metadata": {},
   "source": [
    "Employed are the most common category, retired is less common category of Employment Status. It can be made a analysis in order to discover how the loan interest rate is afected by each Employment Status in the bivariate exploration."
   ]
  },
  {
   "cell_type": "markdown",
   "metadata": {},
   "source": [
    "`IsBorrowerHomeowner`"
   ]
  },
  {
   "cell_type": "markdown",
   "metadata": {},
   "source": [
    "**Question:**\n",
    "- Are the loans made more by people who have their own homes?"
   ]
  },
  {
   "cell_type": "code",
   "execution_count": 173,
   "metadata": {},
   "outputs": [
    {
     "data": {
      "text/html": [
       "<div>\n",
       "<style scoped>\n",
       "    .dataframe tbody tr th:only-of-type {\n",
       "        vertical-align: middle;\n",
       "    }\n",
       "\n",
       "    .dataframe tbody tr th {\n",
       "        vertical-align: top;\n",
       "    }\n",
       "\n",
       "    .dataframe thead th {\n",
       "        text-align: right;\n",
       "    }\n",
       "</style>\n",
       "<table border=\"1\" class=\"dataframe\">\n",
       "  <thead>\n",
       "    <tr style=\"text-align: right;\">\n",
       "      <th></th>\n",
       "      <th>IsBorrowerHomeowner</th>\n",
       "    </tr>\n",
       "  </thead>\n",
       "  <tbody>\n",
       "    <tr>\n",
       "      <td>True</td>\n",
       "      <td>50.45</td>\n",
       "    </tr>\n",
       "    <tr>\n",
       "      <td>False</td>\n",
       "      <td>49.55</td>\n",
       "    </tr>\n",
       "  </tbody>\n",
       "</table>\n",
       "</div>"
      ],
      "text/plain": [
       "       IsBorrowerHomeowner\n",
       "True                 50.45\n",
       "False                49.55"
      ]
     },
     "execution_count": 173,
     "metadata": {},
     "output_type": "execute_result"
    }
   ],
   "source": [
    "# Borrower Home Owner ratio into a DataFrame to make the pie plot easier\n",
    "borrower_home_ratio = round(df_loan['IsBorrowerHomeowner'].value_counts() \n",
    "                            / df_loan['IsBorrowerHomeowner'].shape[0] *100,2)\n",
    "borrower_home_ratio = pd.DataFrame(borrower_home_ratio)\n",
    "borrower_home_ratio"
   ]
  },
  {
   "cell_type": "code",
   "execution_count": 174,
   "metadata": {},
   "outputs": [
    {
     "data": {
      "image/png": "[encoded data removed]",
      "text/plain": [
       "<Figure size 432x288 with 1 Axes>"
      ]
     },
     "metadata": {},
     "output_type": "display_data"
    }
   ],
   "source": [
    "label = list(borrower_home_ratio.index) \n",
    "plt.pie(data = borrower_home_ratio, x= 'IsBorrowerHomeowner',labels = label, autopct = '%1.1f%%')\n",
    "plt.title('Loan Status Ratios');"
   ]
  },
  {
   "cell_type": "markdown",
   "metadata": {},
   "source": [
    "It's an almost 50%/50% division. There's no significant difference in the frequency of loan made by home owners and not home owners."
   ]
  },
  {
   "cell_type": "markdown",
   "metadata": {},
   "source": [
    "`IncomeRange`"
   ]
  },
  {
   "cell_type": "markdown",
   "metadata": {},
   "source": [
    "**Question:**\n",
    "- What is the more common income range?"
   ]
  },
  {
   "cell_type": "code",
   "execution_count": 175,
   "metadata": {},
   "outputs": [
    {
     "data": {
      "text/plain": [
       "$25,000-49,999    32192\n",
       "$50,000-74,999    31050\n",
       "$100,000+         17337\n",
       "$75,000-99,999    16916\n",
       "Not displayed      7741\n",
       "$1-24,999          7274\n",
       "Not employed        806\n",
       "$0                  621\n",
       "Name: IncomeRange, dtype: int64"
      ]
     },
     "execution_count": 175,
     "metadata": {},
     "output_type": "execute_result"
    }
   ],
   "source": [
    "df_loan['IncomeRange'].value_counts()"
   ]
  },
  {
   "cell_type": "code",
   "execution_count": 176,
   "metadata": {},
   "outputs": [
    {
     "data": {
      "image/png": "[encoded data removed]",
      "text/plain": [
       "<Figure size 432x288 with 1 Axes>"
      ]
     },
     "metadata": {
      "needs_background": "light"
     },
     "output_type": "display_data"
    }
   ],
   "source": [
    "df_loan['IncomeRange'].value_counts().plot(kind='bar')\n",
    "plt.title('Income Range Frequency')\n",
    "plt.xlabel('Income Range')\n",
    "plt.ylabel('Frequency');"
   ]
  },
  {
   "cell_type": "markdown",
   "metadata": {},
   "source": [
    "Most people have a income range between USD 25k- USD 50k closed followed by USD 50k- USD 75k range. In the bivariate exploration this column can be analysed with the interest rating."
   ]
  },
  {
   "cell_type": "markdown",
   "metadata": {},
   "source": [
    "`LoanOriginalAmount`"
   ]
  },
  {
   "cell_type": "markdown",
   "metadata": {},
   "source": [
    "**Question:**\n",
    "- What's the distribution of the Loan Amount asked by people?"
   ]
  },
  {
   "cell_type": "code",
   "execution_count": 177,
   "metadata": {},
   "outputs": [
    {
     "data": {
      "image/png": "[encoded data removed]",
      "text/plain": [
       "<Figure size 432x288 with 1 Axes>"
      ]
     },
     "metadata": {
      "needs_background": "light"
     },
     "output_type": "display_data"
    }
   ],
   "source": [
    "df_loan['LoanOriginalAmount'].plot(kind='hist')\n",
    "plt.title('Loan Amount Distribution (USD)')\n",
    "plt.xlabel('Amount (USD)');"
   ]
  },
  {
   "cell_type": "markdown",
   "metadata": {},
   "source": [
    "The loan amount distribution is a right skewed distribution. Most people ask for more than USD 40,000 when lending money at Prosper. Just a few people ask for less than USD 5,000. It can be analysed with the interest rate in a further bi and multivariate exploration"
   ]
  },
  {
   "cell_type": "markdown",
   "metadata": {},
   "source": [
    "### Discuss the distribution(s) of your variable(s) of interest. Were there any unusual points? Did you need to perform any transformations?\n",
    "\n",
    "- `Term`: Can be better analysed with another variables.\n",
    "\n",
    "- `LoanStatus`: I found a better way to plot data joining all \"Past Due\" with different time into a new transformation with ChargedOff, Defaulted and Past Due joining into a new variable named Troubled. With this I discovered that next to 17% of loans have some kind of trouble.\n",
    "\n",
    "\n",
    "- `ListingCategories`/`BorrowerStates`: For these these columns I found better focus on the six and five most common values, the most meaningful results.  \n",
    "\n",
    "- `BorrowerRate`: A little right skewed distribution with a mean of 19,27% per annum.\n",
    "\n",
    "- Most of data in this data set are qualitative, so the most common visualization in this analysis is the bar plot.\n",
    "\n",
    "- In the interest rating histogram wasn't necessary adjust the bins numbers. \n",
    "\n",
    "### Of the features you investigated, were there any unusual distributions? Did you perform any operations on the data to tidy, adjust, or change the form of the data? If so, why did you do this?\n",
    "\n",
    "- The variable type of date were wrong in the columns `ListingCreateDate` and `ClosedDate`. Both were changed to datetime.\n",
    "\n",
    "- `ProsperRating`/`ListingCategory`: It was necessary create a new column using pd.cut pandas atribute for these two columns in order to allow see the value counts of each qualitative category\n",
    "\n",
    "- No missing data ('Nan') were taken off of the dataset."
   ]
  },
  {
   "cell_type": "markdown",
   "metadata": {},
   "source": [
    "## Bivariate Exploration"
   ]
  },
  {
   "cell_type": "markdown",
   "metadata": {},
   "source": [
    "**Question:**\n",
    "- Can we find some difference in the interest rate paid when comparing this variable with the income range?"
   ]
  },
  {
   "cell_type": "code",
   "execution_count": 178,
   "metadata": {},
   "outputs": [
    {
     "data": {
      "image/png": "[encoded data removed]",
      "text/plain": [
       "<Figure size 432x288 with 1 Axes>"
      ]
     },
     "metadata": {
      "needs_background": "light"
     },
     "output_type": "display_data"
    }
   ],
   "source": [
    "sns.boxplot(x = 'BorrowerRate', y = 'IncomeRange', data = df_loan)\n",
    "plt.title('Income Range x Interest Rate Boxplot');"
   ]
  },
  {
   "cell_type": "markdown",
   "metadata": {},
   "source": [
    "From the plot it's possible to notice that people with income range between USD 25k - USD 50K (the most common) pay the average interest (around 19%), while unemployed pay much more than this. People with income range USD 50k - USD 75k (the second most common) pay a liitle bit less. Those who earn more than USS100k/year are paying the smaller rates."
   ]
  },
  {
   "cell_type": "markdown",
   "metadata": {},
   "source": [
    "**Question:**\n",
    "- Can we find some difference in the interest rate paid when comparing this variable with the employment status?"
   ]
  },
  {
   "cell_type": "code",
   "execution_count": 179,
   "metadata": {},
   "outputs": [
    {
     "data": {
      "image/png": "[encoded data removed]",
      "text/plain": [
       "<Figure size 432x288 with 1 Axes>"
      ]
     },
     "metadata": {
      "needs_background": "light"
     },
     "output_type": "display_data"
    }
   ],
   "source": [
    "sns.boxplot(x = 'BorrowerRate', y = 'EmploymentStatus', data = df_loan)\n",
    "plt.title('Employment Status x Interest Rate Boxplot');"
   ]
  },
  {
   "cell_type": "markdown",
   "metadata": {},
   "source": [
    "Here we have someting very similar to the last plot, it also confirms that unemployed people pay interests much higher than the average."
   ]
  },
  {
   "cell_type": "markdown",
   "metadata": {},
   "source": [
    "**Question:**\n",
    "- Is there a difference in the interest rate paid depending on the loan category?"
   ]
  },
  {
   "cell_type": "code",
   "execution_count": 180,
   "metadata": {},
   "outputs": [
    {
     "data": {
      "image/png": "[encoded data removed]",
      "text/plain": [
       "<Figure size 432x288 with 1 Axes>"
      ]
     },
     "metadata": {
      "needs_background": "light"
     },
     "output_type": "display_data"
    }
   ],
   "source": [
    "sns.boxplot(x = 'BorrowerRate', y = 'ListingCategory', data = df_loan)\n",
    "plt.title('Loan Category x Interest Rate Boxplot');"
   ]
  },
  {
   "cell_type": "markdown",
   "metadata": {},
   "source": [
    "Debt consolidation is the most common category as seen in the univariate exploration. The higher interest taxes are paid by people in the third quartile of categories like Household Expenses and Cosmetic Procedures. They pay the higher interest taxes."
   ]
  },
  {
   "cell_type": "markdown",
   "metadata": {},
   "source": [
    "### Talk about some of the relationships you observed in this part of the investigation. How did the feature(s) of interest vary with other features in the dataset?\n",
    "\n",
    "- The most common Income Range of people which made a loan at Prosper (from USD 25k to USD 50k) also pay the average interest rating. It was also possible to notice that not employed people pay the higher taxes.\n",
    "\n",
    "### Did you observe any interesting relationships between the other features (not the main feature(s) of interest)?\n",
    "\n",
    "- Household and Cosmetic Procedures are not common categories (as seen in the univariate exploration), but they pay higher taxes in general."
   ]
  },
  {
   "cell_type": "markdown",
   "metadata": {},
   "source": [
    "## Multivariate Exploration"
   ]
  },
  {
   "cell_type": "markdown",
   "metadata": {},
   "source": [
    "**Questions:**\n",
    "- Is there a significant difference in the amount of money asked depending on the income range?\n",
    "- Is there a difference in the loan term depending on the income range?\n",
    "- What is the most common loan term by people with income range from USD 25k to USD 50k (most common income range)?\n",
    "- What is the most common loan term by people with no income range?"
   ]
  },
  {
   "cell_type": "code",
   "execution_count": 181,
   "metadata": {},
   "outputs": [
    {
     "data": {
      "image/png": "[encoded data removed]",
      "text/plain": [
       "<Figure size 763.75x216 with 3 Axes>"
      ]
     },
     "metadata": {
      "needs_background": "light"
     },
     "output_type": "display_data"
    }
   ],
   "source": [
    "g = sns.FacetGrid(data = df_loan, col = 'Term', margin_titles = True, hue = 'IncomeRange')\n",
    "(g.map(plt.scatter, 'LoanOriginalAmount', 'BorrowerRate').add_legend())\n",
    "plt.subplots_adjust(top = 0.8)\n",
    "g.fig.suptitle('Borrower Rate x Loan Amount x Income Range for 12, 36 and 60 months');"
   ]
  },
  {
   "cell_type": "markdown",
   "metadata": {},
   "source": [
    "- Loan Amounts higher than USD 25,5k are always made by people with the highest income range USD 100k.\n",
    "- Most of unemployed people ask a 60 month loan term.\n",
    "- The most common income range people (USD 25k to USD 50k) ask for a 12 loan term.\n",
    "- People with no income asks more for a 36 month loan term."
   ]
  },
  {
   "cell_type": "markdown",
   "metadata": {},
   "source": [
    "**Questions:**\n",
    "- Which Prosper Rating pay the higher interests?\n",
    "- Is it possible to notice a difference in the interest when the loan term is longer?"
   ]
  },
  {
   "cell_type": "code",
   "execution_count": 182,
   "metadata": {},
   "outputs": [
    {
     "data": {
      "image/png": "[encoded data removed]",
      "text/plain": [
       "<Figure size 726.375x216 with 3 Axes>"
      ]
     },
     "metadata": {
      "needs_background": "light"
     },
     "output_type": "display_data"
    }
   ],
   "source": [
    "g = sns.FacetGrid(data = df_loan, col = 'Term', margin_titles = True, hue = 'ProsperRating')\n",
    "(g.map(plt.scatter, 'LoanOriginalAmount', 'BorrowerRate').add_legend())\n",
    "plt.subplots_adjust(top = 0.8)\n",
    "g.fig.suptitle('Borrower Rate x Loan Amount x Rating for 12, 36 and 60 months');"
   ]
  },
  {
   "cell_type": "markdown",
   "metadata": {},
   "source": [
    "- High Risk (HR) pay about 40% interest per annum, people with this rating always ask a 36 month loan term.\n",
    "- The longer the loan term, higher is the interest rate.\n",
    "- There are some people AA rating paying higher interest than a B or C when in the 36 loan term."
   ]
  },
  {
   "cell_type": "markdown",
   "metadata": {},
   "source": [
    "**Question:**\n",
    "Does home owners ask for more money in the loan? Does those who don't have theis own houses pay higher interest rates?"
   ]
  },
  {
   "cell_type": "code",
   "execution_count": 183,
   "metadata": {},
   "outputs": [
    {
     "data": {
      "image/png": "[encoded data removed]",
      "text/plain": [
       "<Figure size 769.625x216 with 3 Axes>"
      ]
     },
     "metadata": {
      "needs_background": "light"
     },
     "output_type": "display_data"
    }
   ],
   "source": [
    "g = sns.FacetGrid(data = df_loan, col = 'Term', margin_titles = True, hue = 'IsBorrowerHomeowner')\n",
    "(g.map(plt.scatter, 'LoanOriginalAmount', 'BorrowerRate').add_legend());\n",
    "plt.subplots_adjust(top = 0.8)\n",
    "g.fig.suptitle('Borrower Rate x Loan Amount x Borrow Home Owner for 12, 36 and 60 months');"
   ]
  },
  {
   "cell_type": "markdown",
   "metadata": {},
   "source": [
    "- Home owners aks for a higher amount of money.\n",
    "- Those who does not own a home pay much higher interests, even for small amounts when in a 36 month loan term."
   ]
  },
  {
   "cell_type": "markdown",
   "metadata": {},
   "source": [
    "### Talk about some of the relationships you observed in this part of the investigation. Were there features that strengthened each other in terms of looking at your feature(s) of interest?\n",
    "\n",
    "- The relationship between income range, interest rate and loan amount are really strong. People with more money asks more money in a loan and pay the lowest taxes whatever is the term. \n",
    "- Unemployed people pay the highest interest rates and have the longest terms in general, even when don't ask for much money.\n",
    "- Home owners tend to ask for much more money than those who rent a place to live.\n",
    "\n",
    "### Were there any interesting or surprising interactions between features?\n",
    "\n",
    "- People with a good Rating (AA) paying really high interest rates!"
   ]
  },
  {
   "cell_type": "code",
   "execution_count": 184,
   "metadata": {},
   "outputs": [],
   "source": [
    "# save the reduced dataset (df_loan) into a new .csv file\n",
    "df_loan.to_csv('prosperLoanDataReduced.csv',index=False)"
   ]
  }
 ],
 "metadata": {
  "kernelspec": {
   "display_name": "Python 3",
   "language": "python",
   "name": "python3"
  },
  "language_info": {
   "codemirror_mode": {
    "name": "ipython",
    "version": 3
   },
   "file_extension": ".py",
   "mimetype": "text/x-python",
   "name": "python",
   "nbconvert_exporter": "python",
   "pygments_lexer": "ipython3",
   "version": "3.6.0"
  }
 },
 "nbformat": 4,
 "nbformat_minor": 2
}
